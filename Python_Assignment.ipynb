{
 "cells": [
  {
   "cell_type": "code",
   "execution_count": 1,
   "id": "730ee5dc",
   "metadata": {},
   "outputs": [
    {
     "name": "stdout",
     "output_type": "stream",
     "text": [
      "[35, 50, 20, 30, 55, 75, 90, 95, 66, 80]\n"
     ]
    }
   ],
   "source": [
    "#Question 1"
   ]
  },
  {
   "cell_type": "code",
   "execution_count": 9,
   "id": "84c5c8ec",
   "metadata": {},
   "outputs": [
    {
     "name": "stdout",
     "output_type": "stream",
     "text": [
      "[35, 50, 20, 30, 55, 75, 90, 95, 66, 80]\n",
      "35 You are Fail\n",
      "50 You are Fail\n",
      "20 You are Fail\n",
      "30 You are Fail\n",
      "55 You are Second Class\n",
      "75 You are distinction\n",
      "90 You are distinction\n",
      "95 You are distinction\n",
      "66 You are First Class\n",
      "80 You are distinction\n"
     ]
    }
   ],
   "source": [
    "Scores=[35,50,20,30,55,75,90,95,66,80]\n",
    "print(Scores) #First part\n",
    "for i in Scores:\n",
    "    if i > 70:\n",
    "        print('distinction') #Second Part\n",
    "    elif i<70 and i>60 :\n",
    "        print('First Class') # Third Part\n",
    "    elif i<60 and i>50:\n",
    "        print('Second Class') #Fourth Part\n",
    "    elif i<50 and i>35:\n",
    "        print('Just Pass') #Fifth Part\n",
    "    else:\n",
    "        print('Fail') #Sixth Part"
   ]
  },
  {
   "cell_type": "code",
   "execution_count": null,
   "id": "b837a63b",
   "metadata": {},
   "outputs": [],
   "source": [
    "#Question 2"
   ]
  },
  {
   "cell_type": "code",
   "execution_count": 7,
   "id": "ad83a945",
   "metadata": {},
   "outputs": [
    {
     "name": "stdout",
     "output_type": "stream",
     "text": [
      "Python\n",
      "Web_Tech\n",
      "IT\n"
     ]
    }
   ],
   "source": [
    "Book_price= {'Python':600, 'Java': 400, 'Web_Tech': 550, 'OS': 450, 'IT': 700}\n",
    "for x,y in Book_price.items():\n",
    "    if y> 500:\n",
    "        print(x)"
   ]
  },
  {
   "cell_type": "code",
   "execution_count": null,
   "id": "05951426",
   "metadata": {},
   "outputs": [],
   "source": [
    "#Question 3"
   ]
  },
  {
   "cell_type": "code",
   "execution_count": 13,
   "id": "2a35792a",
   "metadata": {},
   "outputs": [
    {
     "name": "stdout",
     "output_type": "stream",
     "text": [
      "[1, 4, 9, 16, 25, 36, 49]\n"
     ]
    }
   ],
   "source": [
    "aList = [1, 2, 3, 4, 5, 6, 7]\n",
    "aList=[i**2 for i in aList]\n",
    "print(aList)"
   ]
  },
  {
   "cell_type": "code",
   "execution_count": null,
   "id": "a5787ef5",
   "metadata": {},
   "outputs": [],
   "source": [
    "#Question 4"
   ]
  },
  {
   "cell_type": "code",
   "execution_count": 14,
   "id": "0c85937c",
   "metadata": {},
   "outputs": [
    {
     "name": "stdout",
     "output_type": "stream",
     "text": [
      "Hello Dear\n",
      "Hello Sir\n",
      "take Dear\n",
      "take Sir\n"
     ]
    }
   ],
   "source": [
    "list1 = [\"Hello \", \"take \"]\n",
    "list2 = [\"Dear\", \"Sir\"]\n",
    "for i in list1:\n",
    "    for j in list2:\n",
    "        print(i+j)"
   ]
  },
  {
   "cell_type": "code",
   "execution_count": null,
   "id": "911066d4",
   "metadata": {},
   "outputs": [],
   "source": [
    "#Question 5"
   ]
  },
  {
   "cell_type": "code",
   "execution_count": 28,
   "id": "8a69a888",
   "metadata": {},
   "outputs": [
    {
     "name": "stdout",
     "output_type": "stream",
     "text": [
      "[500, 400, 300, 200, 100]\n"
     ]
    }
   ],
   "source": [
    "aLsit = [100, 200, 300, 400, 500]\n",
    "print(aLsit[::-1])"
   ]
  }
 ],
 "metadata": {
  "kernelspec": {
   "display_name": "Python 3 (ipykernel)",
   "language": "python",
   "name": "python3"
  },
  "language_info": {
   "codemirror_mode": {
    "name": "ipython",
    "version": 3
   },
   "file_extension": ".py",
   "mimetype": "text/x-python",
   "name": "python",
   "nbconvert_exporter": "python",
   "pygments_lexer": "ipython3",
   "version": "3.11.4"
  }
 },
 "nbformat": 4,
 "nbformat_minor": 5
}
